{
  "nbformat": 4,
  "nbformat_minor": 0,
  "metadata": {
    "colab": {
      "provenance": []
    },
    "kernelspec": {
      "name": "python3",
      "display_name": "Python 3"
    },
    "language_info": {
      "name": "python"
    }
  },
  "cells": [
    {
      "cell_type": "code",
      "source": [
        "!pip install tweepy textblob vaderSentiment matplotlib"
      ],
      "metadata": {
        "colab": {
          "base_uri": "https://localhost:8080/"
        },
        "id": "4Nq7GsW66bV7",
        "outputId": "858f4db5-0390-4858-9b46-4e25a722615f"
      },
      "execution_count": null,
      "outputs": [
        {
          "output_type": "stream",
          "name": "stdout",
          "text": [
            "Requirement already satisfied: tweepy in /usr/local/lib/python3.11/dist-packages (4.15.0)\n",
            "Requirement already satisfied: textblob in /usr/local/lib/python3.11/dist-packages (0.19.0)\n",
            "Collecting vaderSentiment\n",
            "  Downloading vaderSentiment-3.3.2-py2.py3-none-any.whl.metadata (572 bytes)\n",
            "Requirement already satisfied: matplotlib in /usr/local/lib/python3.11/dist-packages (3.10.0)\n",
            "Requirement already satisfied: oauthlib<4,>=3.2.0 in /usr/local/lib/python3.11/dist-packages (from tweepy) (3.3.1)\n",
            "Requirement already satisfied: requests<3,>=2.27.0 in /usr/local/lib/python3.11/dist-packages (from tweepy) (2.32.3)\n",
            "Requirement already satisfied: requests-oauthlib<3,>=1.2.0 in /usr/local/lib/python3.11/dist-packages (from tweepy) (2.0.0)\n",
            "Requirement already satisfied: nltk>=3.9 in /usr/local/lib/python3.11/dist-packages (from textblob) (3.9.1)\n",
            "Requirement already satisfied: contourpy>=1.0.1 in /usr/local/lib/python3.11/dist-packages (from matplotlib) (1.3.2)\n",
            "Requirement already satisfied: cycler>=0.10 in /usr/local/lib/python3.11/dist-packages (from matplotlib) (0.12.1)\n",
            "Requirement already satisfied: fonttools>=4.22.0 in /usr/local/lib/python3.11/dist-packages (from matplotlib) (4.58.4)\n",
            "Requirement already satisfied: kiwisolver>=1.3.1 in /usr/local/lib/python3.11/dist-packages (from matplotlib) (1.4.8)\n",
            "Requirement already satisfied: numpy>=1.23 in /usr/local/lib/python3.11/dist-packages (from matplotlib) (2.0.2)\n",
            "Requirement already satisfied: packaging>=20.0 in /usr/local/lib/python3.11/dist-packages (from matplotlib) (24.2)\n",
            "Requirement already satisfied: pillow>=8 in /usr/local/lib/python3.11/dist-packages (from matplotlib) (11.2.1)\n",
            "Requirement already satisfied: pyparsing>=2.3.1 in /usr/local/lib/python3.11/dist-packages (from matplotlib) (3.2.3)\n",
            "Requirement already satisfied: python-dateutil>=2.7 in /usr/local/lib/python3.11/dist-packages (from matplotlib) (2.9.0.post0)\n",
            "Requirement already satisfied: click in /usr/local/lib/python3.11/dist-packages (from nltk>=3.9->textblob) (8.2.1)\n",
            "Requirement already satisfied: joblib in /usr/local/lib/python3.11/dist-packages (from nltk>=3.9->textblob) (1.5.1)\n",
            "Requirement already satisfied: regex>=2021.8.3 in /usr/local/lib/python3.11/dist-packages (from nltk>=3.9->textblob) (2024.11.6)\n",
            "Requirement already satisfied: tqdm in /usr/local/lib/python3.11/dist-packages (from nltk>=3.9->textblob) (4.67.1)\n",
            "Requirement already satisfied: six>=1.5 in /usr/local/lib/python3.11/dist-packages (from python-dateutil>=2.7->matplotlib) (1.17.0)\n",
            "Requirement already satisfied: charset-normalizer<4,>=2 in /usr/local/lib/python3.11/dist-packages (from requests<3,>=2.27.0->tweepy) (3.4.2)\n",
            "Requirement already satisfied: idna<4,>=2.5 in /usr/local/lib/python3.11/dist-packages (from requests<3,>=2.27.0->tweepy) (3.10)\n",
            "Requirement already satisfied: urllib3<3,>=1.21.1 in /usr/local/lib/python3.11/dist-packages (from requests<3,>=2.27.0->tweepy) (2.4.0)\n",
            "Requirement already satisfied: certifi>=2017.4.17 in /usr/local/lib/python3.11/dist-packages (from requests<3,>=2.27.0->tweepy) (2025.6.15)\n",
            "Downloading vaderSentiment-3.3.2-py2.py3-none-any.whl (125 kB)\n",
            "\u001b[2K   \u001b[90m━━━━━━━━━━━━━━━━━━━━━━━━━━━━━━━━━━━━━━━━\u001b[0m \u001b[32m126.0/126.0 kB\u001b[0m \u001b[31m3.9 MB/s\u001b[0m eta \u001b[36m0:00:00\u001b[0m\n",
            "\u001b[?25hInstalling collected packages: vaderSentiment\n",
            "Successfully installed vaderSentiment-3.3.2\n"
          ]
        }
      ]
    },
    {
      "cell_type": "code",
      "source": [
        "import tweepy\n",
        "import pandas as pd\n",
        "from textblob import TextBlob\n",
        "import matplotlib.pyplot as plt"
      ],
      "metadata": {
        "id": "Aul3fZLHaIrx"
      },
      "execution_count": 1,
      "outputs": []
    },
    {
      "cell_type": "code",
      "source": [
        "def authenticate_twitter_v2():\n",
        "    BEARER_TOKEN = 'Your_Secret_Key'\n",
        "    client = tweepy.Client(bearer_token=BEARER_TOKEN)\n",
        "    return client"
      ],
      "metadata": {
        "id": "04t-aFPqaPcA"
      },
      "execution_count": 7,
      "outputs": []
    },
    {
      "cell_type": "code",
      "source": [
        "def fetch_tweets_v2(client, query, count=50):\n",
        "    tweets = []\n",
        "    for tweet in tweepy.Paginator(client.search_recent_tweets,\n",
        "                                 query=query,\n",
        "                                 tweet_fields=['text', 'lang'],\n",
        "                                 max_results=100).flatten(limit=count):\n",
        "        if tweet.lang == 'en':\n",
        "            tweets.append(tweet.text)\n",
        "    return tweets"
      ],
      "metadata": {
        "id": "J4uBsJd3aUAw"
      },
      "execution_count": 8,
      "outputs": []
    },
    {
      "cell_type": "code",
      "source": [
        "def analyze_sentiment(tweet):\n",
        "    analysis = TextBlob(tweet)\n",
        "    polarity = analysis.sentiment.polarity\n",
        "    if polarity > 0:\n",
        "        return 'Positive'\n",
        "    elif polarity < 0:\n",
        "        return 'Negative'\n",
        "    else:\n",
        "        return 'Neutral'"
      ],
      "metadata": {
        "id": "Y0_aWjUMaYRK"
      },
      "execution_count": 9,
      "outputs": []
    },
    {
      "cell_type": "code",
      "source": [
        "def visualize_results(df, query):\n",
        "    sentiment_counts = df['Sentiment'].value_counts()\n",
        "    colors = ['green' if x == 'Positive' else 'red' if x == 'Negative' else 'blue' for x in sentiment_counts.index]\n",
        "    sentiment_counts.plot(kind='bar', color=colors)\n",
        "    plt.title(f'Sentiment Analysis for \"{query}\"')\n",
        "    plt.xlabel('Sentiment')\n",
        "    plt.ylabel('Number of Tweets')\n",
        "    plt.show()\n"
      ],
      "metadata": {
        "id": "NEoKdcc9ae_W"
      },
      "execution_count": 10,
      "outputs": []
    },
    {
      "cell_type": "code",
      "source": [
        "def display_examples(df):\n",
        "\n",
        "    for sentiment in ['Positive', 'Negative', 'Neutral']:\n",
        "        print(f\"\\nExample {sentiment} Tweets:\")\n",
        "        print(df[df['Sentiment'] == sentiment]['Tweet'].head(3).to_string(index=False))"
      ],
      "metadata": {
        "id": "ZWLgsKQYap9I"
      },
      "execution_count": 11,
      "outputs": []
    },
    {
      "cell_type": "code",
      "source": [
        "def main():\n",
        "    client = authenticate_twitter_v2()\n",
        "    query = 'war'\n",
        "    count = 50\n",
        "    print(f\"Fetching {count} tweets for query: {query}\")\n",
        "    tweets = fetch_tweets_v2(client, query, count)\n",
        "    df = pd.DataFrame(tweets, columns=['Tweet'])\n",
        "    df['Sentiment'] = df['Tweet'].apply(analyze_sentiment)\n",
        "    visualize_results(df, query)\n",
        "    display_examples(df)\n",
        "    df.to_csv('tweet_sentiment_results.csv', index=False)\n",
        "    print(\"\\nSentiment analysis complete!\")\n",
        "    print(f\"Total Tweets Analyzed: {len(df)}\")\n",
        "    print(\"Results saved to 'tweet_sentiment_results.csv'.\")\n",
        "\n",
        "if __name__ == \"__main__\":\n",
        "    main()"
      ],
      "metadata": {
        "colab": {
          "base_uri": "https://localhost:8080/",
          "height": 867
        },
        "id": "XS_8dBuOatP7",
        "outputId": "301c0ead-82d5-4c7c-c12a-d39e46a39650"
      },
      "execution_count": 12,
      "outputs": [
        {
          "output_type": "stream",
          "name": "stdout",
          "text": [
            "Fetching 50 tweets for query: war\n"
          ]
        },
        {
          "output_type": "display_data",
          "data": {
            "text/plain": [
              "<Figure size 640x480 with 1 Axes>"
            ],
            "image/png": "[encoded data removed]"
          },
          "metadata": {}
        },
        {
          "output_type": "stream",
          "name": "stdout",
          "text": [
            "\n",
            "Example Positive Tweets:\n",
            "RT @khaliphaXhood: Created a group called Crypt...\n",
            "RT @DalrympleWill: Everyone must watch this rem...\n",
            "@shivangitwt Do tell us if u like it...I've wan...\n",
            "\n",
            "Example Negative Tweets:\n",
            "@CalumB60835284 I think even the most hawkish K...\n",
            "@CNNEE .@CNNEE Disappointed with Trump ❗❗❗🤬\\nht...\n",
            "RT @NickOnRipple: I'm seething. I'm 35 and I've...\n",
            "\n",
            "Example Neutral Tweets:\n",
            "RT @ShaykhSulaiman: “ALL ISRAELI SOLDIERS ARE W...\n",
            "RT @gbponz: Velina, Europe is not a power. It's...\n",
            "RT @ricwe123: We are constantly told how the wa...\n",
            "\n",
            "Sentiment analysis complete!\n",
            "Total Tweets Analyzed: 36\n",
            "Results saved to 'tweet_sentiment_results.csv'.\n"
          ]
        }
      ]
    }
  ]
}